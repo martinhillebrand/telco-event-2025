{
 "cells": [
  {
   "cell_type": "code",
   "execution_count": 1,
   "id": "0977abdf-7596-494a-8cd6-fa45acb36b8d",
   "metadata": {},
   "outputs": [],
   "source": [
    "import teradataml as tdml"
   ]
  },
  {
   "cell_type": "code",
   "execution_count": null,
   "id": "4e07a48b-f891-4b22-ada6-954ad627234f",
   "metadata": {},
   "outputs": [],
   "source": [
    "views = ['telco_consumer_complaints', 'telco_consumer_embeddings']\n",
    "\n",
    "# Loop through the list of views and execute the drop view command for each view\n",
    "for v in views:\n",
    "    try:\n",
    "        tdml.db_drop_view(v) \n",
    "    except:\n",
    "        pass\n",
    "\n",
    "try:\n",
    "    tdml.db_drop_table(\"telco_consumer_complaints_t\") \n",
    "except:\n",
    "    pass"
   ]
  }
 ],
 "metadata": {
  "kernelspec": {
   "display_name": "Python 3 (ipykernel)",
   "language": "python",
   "name": "python3"
  },
  "language_info": {
   "codemirror_mode": {
    "name": "ipython",
    "version": 3
   },
   "file_extension": ".py",
   "mimetype": "text/x-python",
   "name": "python",
   "nbconvert_exporter": "python",
   "pygments_lexer": "ipython3",
   "version": "3.10.10"
  }
 },
 "nbformat": 4,
 "nbformat_minor": 5
}
