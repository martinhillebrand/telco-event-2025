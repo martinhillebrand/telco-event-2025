{
 "cells": [
  {
   "cell_type": "code",
   "execution_count": 1,
   "id": "102d66ea-c12a-489d-a481-24e8b688eb2e",
   "metadata": {},
   "outputs": [],
   "source": [
    "import pandas as pd\n",
    "import teradataml as tdml"
   ]
  },
  {
   "cell_type": "markdown",
   "id": "8c2c36c3-1e15-448c-81db-01a5e7308591",
   "metadata": {},
   "source": [
    "# check if data already exists"
   ]
  },
  {
   "cell_type": "code",
   "execution_count": 2,
   "id": "01668d2e-32e6-49da-8869-468e6166543e",
   "metadata": {},
   "outputs": [],
   "source": [
    "complaints_uploaded = False"
   ]
  },
  {
   "cell_type": "code",
   "execution_count": null,
   "id": "f7873bd0-3ac4-4574-b3f4-92c8695f785f",
   "metadata": {},
   "outputs": [],
   "source": [
    "try:\n",
    "    DF_complaints = tdml.DataFrame(\"telco_consumer_complaints_t\")\n",
    "    print(\"telco_consumer_complaints_t already exists\")\n",
    "    if DF_complaints.shape == (7023, 771):\n",
    "        complaints_uploaded = True\n",
    "        print(\"telco_consumer_complaints_t has got the right shape\")\n",
    "        \n",
    "except:\n",
    "    pass\n",
    "    "
   ]
  },
  {
   "cell_type": "markdown",
   "id": "3330503c-0660-4b36-b6f2-ffb8b11d6881",
   "metadata": {},
   "source": [
    "# read and upload complaints"
   ]
  },
  {
   "cell_type": "code",
   "execution_count": null,
   "id": "fd80fbdc-1815-4320-a828-087e55bdbfc1",
   "metadata": {},
   "outputs": [],
   "source": [
    "if not complaints_uploaded:\n",
    "    df_complaints = pd.read_parquet(\"data/embeddings.parquet\")\n",
    "\n",
    "    print(\"start upload: telco_consumer_complaints_t\")\n",
    "    tdml.copy_to_sql(df_complaints, \"telco_consumer_complaints_t\", \n",
    "                     types = {\"txt\":tdml.VARCHAR(10000),\n",
    "                             \"complaint_date\":tdml.DATE(),\n",
    "                             },\n",
    "                     primary_index=\"row_id\",\n",
    "                     if_exists=\"fail\"\n",
    "                    )\n",
    "    print(\"finished upload: telco_consumer_complaints_t\")"
   ]
  },
  {
   "cell_type": "code",
   "execution_count": null,
   "id": "159bd73c-c7bd-4798-8783-7c58f623b392",
   "metadata": {},
   "outputs": [],
   "source": [
    "tdml.execute_sql(\"\"\"REPLACE VIEW telco_consumer_complaints AS \n",
    "SELECT \n",
    "    row_id, \n",
    "    complaint_date AS date_received, \n",
    "    txt AS consumer_complaint_narrative\n",
    "FROM telco_consumer_complaints_t\n",
    "\"\"\")"
   ]
  },
  {
   "cell_type": "code",
   "execution_count": null,
   "id": "b5659b4d-0929-4ac8-8c60-d1dfc0fd368e",
   "metadata": {},
   "outputs": [],
   "source": [
    "tdml.execute_sql(\"\"\"REPLACE VIEW telco_consumer_embeddings AS \n",
    "SELECT * FROM Antiselect(\n",
    "    ON telco_consumer_complaints_t\n",
    "    USING\n",
    "    Exclude ('txt', 'complaint_date')\n",
    "    ) dt\n",
    "\"\"\")"
   ]
  }
 ],
 "metadata": {
  "kernelspec": {
   "display_name": "Python 3 (ipykernel)",
   "language": "python",
   "name": "python3"
  },
  "language_info": {
   "codemirror_mode": {
    "name": "ipython",
    "version": 3
   },
   "file_extension": ".py",
   "mimetype": "text/x-python",
   "name": "python",
   "nbconvert_exporter": "python",
   "pygments_lexer": "ipython3",
   "version": "3.10.10"
  }
 },
 "nbformat": 4,
 "nbformat_minor": 5
}
